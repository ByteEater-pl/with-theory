{
 "cells": [
  {
   "cell_type": "code",
   "execution_count": 52,
   "metadata": {},
   "outputs": [
    {
     "data": {
      "text/plain": [
       "[14, 24, 36, 60, 68, 87, 95, 99]"
      ]
     },
     "execution_count": 52,
     "metadata": {},
     "output_type": "execute_result"
    }
   ],
   "source": [
    "import random\n",
    "l = sorted(random.sample(range(10, 100), 8))\n",
    "l"
   ]
  },
  {
   "cell_type": "code",
   "execution_count": 53,
   "metadata": {},
   "outputs": [],
   "source": [
    "# wyszukiwanie liniowe\n",
    "def search(l, x):\n",
    "\tfor i, y in enumerate(l):\n",
    "\t\tif y == x:\n",
    "\t\t\treturn i\n",
    "\traise Exception()"
   ]
  },
  {
   "cell_type": "markdown",
   "metadata": {},
   "source": [
    "Poniższa funkcja działa, gdy szukany element jest w uporządkowanej liście (kolekcji), ale gdy nie ma, może wpaść w wieczną pętlę! (Zamiast zwracać `None`.) Dodanie linia 2 ratuje przed tym tylko w przypadku, gdy szukany element jest większy od największego (ostatniego) elementu. Przykład i uniwersalne rozwiązanie dalej poniżej."
   ]
  },
  {
   "cell_type": "code",
   "execution_count": 106,
   "metadata": {},
   "outputs": [],
   "source": [
    "# wyszukiwanie połówkowe (binarne)\n",
    "def bin_search(l, x):\n",
    "\tif l and l[-1] >= x:\n",
    "\t\tstart, end = 0, len(l)\n",
    "\t\twhile start < end:\n",
    "\t\t\ti = (start + end) // 2\n",
    "\t\t\tif l[i] == x:\n",
    "\t\t\t\treturn i\n",
    "\t\t\tstart, end = ((start, i), (i, end))[l[i] < x]"
   ]
  },
  {
   "cell_type": "code",
   "execution_count": 104,
   "metadata": {},
   "outputs": [],
   "source": [
    "# bin_search(l, 54)\n",
    "# Zakomentowane, bo 54 się wylosowało 2 tygodnie temu, ale po ponownym uruchomieniu niekoniecznie. Vide następny przykład."
   ]
  },
  {
   "cell_type": "code",
   "execution_count": 103,
   "metadata": {},
   "outputs": [
    {
     "data": {
      "text/plain": [
       "3"
      ]
     },
     "execution_count": 103,
     "metadata": {},
     "output_type": "execute_result"
    }
   ],
   "source": [
    "bin_search(l, l[3]) # element na pewno występuje, spodziewamy się wyniku 3"
   ]
  },
  {
   "cell_type": "code",
   "execution_count": 107,
   "metadata": {},
   "outputs": [],
   "source": [
    "import multiprocessing\n",
    "def loop():\n",
    "\tprint(\n",
    "\t\t# Element nie występuje, powinniśmy dostać `None`, zamiast tego funkcja nigdy nie kończy działania.\n",
    "\t\tbin_search((2, 3, 5), 4)\n",
    "\t\t# Tylko powyższa linia mogłaby być w tej komórce. `print` i cała reszta jest po to, żeby można było cały skoroszyt uruchomić i nie pochylać się nad tą jedną komórką, która jeszcze się oblicza. Przerywamy po 2 sekundach.\n",
    "\t)\n",
    "p = multiprocessing.Process(target = loop)\n",
    "p.start()\n",
    "p.join(2)\n",
    "p.terminate()"
   ]
  },
  {
   "cell_type": "markdown",
   "metadata": {},
   "source": [
    "Zamiast linii 2 w powyższej wersji `bin_search`, powinniśmy pomijać indeks `i`, skoro sprawdziliśmy i już w tym momencie wiemy, że pod nim nie ma szukanego elementu. Poprawiona wersja, prostsza nawet:"
   ]
  },
  {
   "cell_type": "code",
   "execution_count": 58,
   "metadata": {},
   "outputs": [],
   "source": [
    "def bin_search(l, x):\n",
    "\tstart, end = 0, len(l)\n",
    "\twhile start < end:\n",
    "\t\ti = (start + end) // 2\n",
    "\t\tif l[i] == x:\n",
    "\t\t\treturn i\n",
    "\t\tstart, end = ((start, i), (i + 1, end))[l[i] < x]"
   ]
  },
  {
   "cell_type": "markdown",
   "metadata": {},
   "source": []
  },
  {
   "cell_type": "code",
   "execution_count": 59,
   "metadata": {},
   "outputs": [],
   "source": [
    "bin_search((2, 3, 5), 4)"
   ]
  },
  {
   "cell_type": "code",
   "execution_count": 98,
   "metadata": {},
   "outputs": [],
   "source": [
    "# wyszukiwanie słownikowe (aproksymacyjne)\n",
    "def dict_search(l, x):\n",
    "\tif l and l[0] <= x <= l[-1]:\n",
    "\t\tstart = 0\n",
    "\t\tend = len(l) - 1\n",
    "\t\twhile start <= end:\n",
    "\t\t\ti = start\n",
    "\t\t\td = l[end] - l[start]\n",
    "\t\t\tif d:\n",
    "\t\t\t\ti += round((end - start) * (x - l[start]) / d)\n",
    "\t\t\t\tif l[i] == x:\n",
    "\t\t\t\t\treturn i\n",
    "\t\t\t\tstart, end = (start, i - 1) if x < l[i] else (i + 1, end)\n",
    "\t\t\telse:\n",
    "\t\t\t\treturn i if l[i] == x else None"
   ]
  },
  {
   "cell_type": "code",
   "execution_count": 108,
   "metadata": {},
   "outputs": [
    {
     "data": {
      "text/plain": [
       "6"
      ]
     },
     "execution_count": 108,
     "metadata": {},
     "output_type": "execute_result"
    }
   ],
   "source": [
    "dict_search([4, 4, 7, 9, 9, 9, 14, 18], 14)"
   ]
  },
  {
   "cell_type": "code",
   "execution_count": 109,
   "metadata": {},
   "outputs": [
    {
     "data": {
      "text/plain": [
       "0"
      ]
     },
     "execution_count": 109,
     "metadata": {},
     "output_type": "execute_result"
    }
   ],
   "source": [
    "dict_search(l, 14)"
   ]
  }
 ],
 "metadata": {
  "interpreter": {
   "hash": "e7370f93d1d0cde622a1f8e1c04877d8463912d04d973331ad4851f04de6915a"
  },
  "kernelspec": {
   "display_name": "Python 3.10.2 64-bit",
   "language": "python",
   "name": "python3"
  },
  "language_info": {
   "codemirror_mode": {
    "name": "ipython",
    "version": 3
   },
   "file_extension": ".py",
   "mimetype": "text/x-python",
   "name": "python",
   "nbconvert_exporter": "python",
   "pygments_lexer": "ipython3",
   "version": "3.10.2"
  },
  "orig_nbformat": 4
 },
 "nbformat": 4,
 "nbformat_minor": 2
}
