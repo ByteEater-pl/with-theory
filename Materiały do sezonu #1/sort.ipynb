{
 "cells": [
  {
   "cell_type": "code",
   "execution_count": 17,
   "metadata": {},
   "outputs": [
    {
     "data": {
      "text/plain": [
       "[41, 24, 48, 49, 81, 13, 37, 91, 85, 98, 19, 28, 66, 70, 73]"
      ]
     },
     "execution_count": 17,
     "metadata": {},
     "output_type": "execute_result"
    }
   ],
   "source": [
    "import random\n",
    "l = random.sample(range(10, 100), 15)\n",
    "l"
   ]
  },
  {
   "cell_type": "code",
   "execution_count": null,
   "metadata": {},
   "outputs": [],
   "source": []
  },
  {
   "cell_type": "code",
   "execution_count": 14,
   "metadata": {},
   "outputs": [],
   "source": [
    "def selection_sort(l):\n",
    "\te = [[b, a] for a, b in enumerate(l)]\n",
    "\tfor _, i in e:\n",
    "\t\tj = min(e[i:])[1]\n",
    "\t\te[i][0], e[j][0] = e[j][0], e[i][0]\n",
    "\tl[:] = (x[0] for x in e)"
   ]
  },
  {
   "cell_type": "code",
   "execution_count": 19,
   "metadata": {},
   "outputs": [
    {
     "data": {
      "text/plain": [
       "[10, 18, 19, 26, 36, 38, 47, 48, 53, 68, 71, 85, 87, 92, 99]"
      ]
     },
     "execution_count": 19,
     "metadata": {},
     "output_type": "execute_result"
    }
   ],
   "source": [
    "selection_sort(l)\n",
    "l"
   ]
  },
  {
   "cell_type": "markdown",
   "metadata": {},
   "source": [
    "Prostsza i pytoniczniejsza wersja `selection_sort` poniżej. Uruchamiać ją należy po pierwszej komórce, bo jeśli wszystkie po kolei, to lista `l` już będzie posortowana poprzednią wersją."
   ]
  },
  {
   "cell_type": "code",
   "execution_count": 1,
   "metadata": {},
   "outputs": [],
   "source": [
    "def selection_sort(l):\n",
    "\tfor i, x in enumerate(l):\n",
    "\t\tj = min(range(i, len(l)), key = l.__getitem__)\n",
    "\t\tl[i], l[j] = l[j], x"
   ]
  },
  {
   "cell_type": "markdown",
   "metadata": {},
   "source": [
    "A tak działa metoda `__getitem__`, która robi to samo, co indeksowanie (nawiasy kwadratowe), ale jest funkcją, czyli m.in. można ją przekazać jako wartość:"
   ]
  },
  {
   "cell_type": "code",
   "execution_count": 1,
   "metadata": {},
   "outputs": [
    {
     "name": "stdout",
     "output_type": "stream",
     "text": [
      "9 9\n"
     ]
    }
   ],
   "source": [
    "print(\n",
    "\t(6, 5, 9, 1).__getitem__(2),\n",
    "\t(6, 5, 9, 1)[2])"
   ]
  },
  {
   "cell_type": "code",
   "execution_count": 3,
   "metadata": {},
   "outputs": [],
   "source": [
    "def bubble_sort(l):\n",
    "\tr = range(len(l) - 1)\n",
    "\tfor _ in r:\n",
    "\t\tfor i in r:\n",
    "\t\t\tif l[i] > l[i + 1]:\n",
    "\t\t\t\tl[i : i + 2] = l[i + 1], l[i]"
   ]
  },
  {
   "cell_type": "code",
   "execution_count": null,
   "metadata": {},
   "outputs": [],
   "source": [
    "# niepoprawne warianty ostatniej linii\n",
    "l[i:][:2] = l[i + 1], l[i]\n",
    "l[i : i + 2].reverse()"
   ]
  },
  {
   "cell_type": "code",
   "execution_count": 13,
   "metadata": {},
   "outputs": [
    {
     "data": {
      "text/plain": [
       "[11, 18, 32, 39, 45, 49, 53, 69, 74, 75, 86, 87, 90, 91, 96]"
      ]
     },
     "execution_count": 13,
     "metadata": {},
     "output_type": "execute_result"
    }
   ],
   "source": [
    "bubble_sort(l)\n",
    "l"
   ]
  },
  {
   "cell_type": "code",
   "execution_count": 6,
   "metadata": {},
   "outputs": [],
   "source": [
    "def bubble_sort(l):\n",
    "\tr = range(len(l) - 1)\n",
    "\tfor _ in r:\n",
    "\t\ts = True\n",
    "\t\tfor i in r:\n",
    "\t\t\tif l[i] > l[i + 1]:\n",
    "\t\t\t\tl[i : i + 2] = l[i + 1], l[i]\n",
    "\t\t\t\ts = False\n",
    "\t\tif s: break"
   ]
  },
  {
   "cell_type": "code",
   "execution_count": 9,
   "metadata": {},
   "outputs": [],
   "source": [
    "def bubble_sort(l):\n",
    "\tr = range(len(l) - 1)\n",
    "\tfor j in reversed(r):\n",
    "\t\ts = True\n",
    "\t\tfor i in range(j + 1):\n",
    "\t\t\tif l[i] > l[i + 1]:\n",
    "\t\t\t\tl[i : i + 2] = l[i + 1], l[i]\n",
    "\t\t\t\ts = False\n",
    "\t\tif s: break"
   ]
  },
  {
   "cell_type": "code",
   "execution_count": 12,
   "metadata": {},
   "outputs": [],
   "source": [
    "def bubble_sort(l):\n",
    "\tj = len(l) - 1\n",
    "\twhile j:\n",
    "\t\tfor i in range(j):\n",
    "\t\t\tif l[i] > l[i + 1]:\n",
    "\t\t\t\tl[i : i + 2] = l[i + 1], l[i]\n",
    "\t\t\t\tj = i"
   ]
  },
  {
   "cell_type": "code",
   "execution_count": 15,
   "metadata": {},
   "outputs": [],
   "source": [
    "def cocktail_sort(l):\n",
    "\tr = range(len(l) - 1)\n",
    "\tfor b in r:\n",
    "\t\tfor i in r if b % 2 else reversed(r):\n",
    "\t\t\tif l[i] > l[i + 1]:\n",
    "\t\t\t\tl[i : i + 2] = l[i + 1], l[i]"
   ]
  },
  {
   "cell_type": "code",
   "execution_count": 16,
   "metadata": {},
   "outputs": [
    {
     "data": {
      "text/plain": [
       "[10, 12, 13, 28, 38, 39, 55, 63, 65, 78, 79, 84, 86, 88, 94]"
      ]
     },
     "execution_count": 16,
     "metadata": {},
     "output_type": "execute_result"
    }
   ],
   "source": [
    "cocktail_sort(l)\n",
    "l"
   ]
  },
  {
   "cell_type": "code",
   "execution_count": 18,
   "metadata": {},
   "outputs": [],
   "source": [
    "def quick_sort(l, a = 0, b = -1):\n",
    "\tb %= len(l) or 1\n",
    "\tif a < b:\n",
    "\t\tp = l[a]\n",
    "\t\ti = a\n",
    "\t\tj = b\n",
    "\t\twhile i < j:\n",
    "\t\t\twhile l[i] < p and i < j: i += 1\n",
    "\t\t\twhile l[j] >= p and i < j: j -= 1\n",
    "\t\t\tl[i], l[j] = l[j], l[i]\n",
    "\t\tif i: quick_sort(l, a, i - 1)\n",
    "\t\tquick_sort(l, i + 1, b)"
   ]
  },
  {
   "cell_type": "code",
   "execution_count": 19,
   "metadata": {},
   "outputs": [
    {
     "data": {
      "text/plain": [
       "[13, 19, 24, 37, 28, 81, 41, 48, 85, 49, 66, 70, 91, 73, 98]"
      ]
     },
     "execution_count": 19,
     "metadata": {},
     "output_type": "execute_result"
    }
   ],
   "source": [
    "quick_sort(l)\n",
    "l"
   ]
  },
  {
   "cell_type": "code",
   "execution_count": 20,
   "metadata": {},
   "outputs": [],
   "source": [
    "def merge(xs, ys):\n",
    "\ttry:\n",
    "\t\tif xs[0] > ys[0]:\n",
    "\t\t\txs, ys = ys, xs\n",
    "\t\treturn xs[0], *merge(xs[1:], ys)\n",
    "\texcept: return max(xs, ys)"
   ]
  },
  {
   "cell_type": "code",
   "execution_count": 21,
   "metadata": {},
   "outputs": [
    {
     "data": {
      "text/plain": [
       "(1, 2, 3, 6, 7, 8, 8, 9)"
      ]
     },
     "execution_count": 21,
     "metadata": {},
     "output_type": "execute_result"
    }
   ],
   "source": [
    "merge([3, 7, 8], [1, 2, 6, 8, 9])"
   ]
  }
 ],
 "metadata": {
  "interpreter": {
   "hash": "e7370f93d1d0cde622a1f8e1c04877d8463912d04d973331ad4851f04de6915a"
  },
  "kernelspec": {
   "display_name": "Python 3.10.2 64-bit",
   "language": "python",
   "name": "python3"
  },
  "language_info": {
   "codemirror_mode": {
    "name": "ipython",
    "version": 3
   },
   "file_extension": ".py",
   "mimetype": "text/x-python",
   "name": "python",
   "nbconvert_exporter": "python",
   "pygments_lexer": "ipython3",
   "version": "3.10.2"
  },
  "orig_nbformat": 4
 },
 "nbformat": 4,
 "nbformat_minor": 2
}
